{
 "cells": [
  {
   "cell_type": "code",
   "execution_count": 3,
   "id": "668fba7c",
   "metadata": {},
   "outputs": [
    {
     "name": "stdout",
     "output_type": "stream",
     "text": [
      "Availabe product Burgur price 100 and pizza price 200 = hgfhg\n",
      "sorry no product\n"
     ]
    }
   ],
   "source": [
    "name=str(input(\"Availabe product Burgur price 100 and pizza price 200 = \"))\n",
    "\n",
    "\n",
    "\n",
    "if (name == \"burgur\"):\n",
    "    price=100\n",
    "    quantity=int(input(\"enter the quantity\"))\n",
    "    total_bill=(quantity*price)\n",
    "    print(\"total bill = \",total_bill)\n",
    "elif(name== \"pizza\"):\n",
    "    price=200\n",
    "    quantity=int(input(\"enter the quantity\"))\n",
    "    total_bill=(quantity*price)\n",
    "    print(\"total bill = \",total_bill)\n",
    "else:\n",
    "    print(\"sorry no product\")\n",
    "\n",
    "\n"
   ]
  },
  {
   "cell_type": "code",
   "execution_count": null,
   "id": "5dab24e9",
   "metadata": {},
   "outputs": [],
   "source": []
  }
 ],
 "metadata": {
  "kernelspec": {
   "display_name": "Python 3 (ipykernel)",
   "language": "python",
   "name": "python3"
  },
  "language_info": {
   "codemirror_mode": {
    "name": "ipython",
    "version": 3
   },
   "file_extension": ".py",
   "mimetype": "text/x-python",
   "name": "python",
   "nbconvert_exporter": "python",
   "pygments_lexer": "ipython3",
   "version": "3.9.13"
  }
 },
 "nbformat": 4,
 "nbformat_minor": 5
}
